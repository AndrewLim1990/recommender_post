{
 "cells": [
  {
   "cell_type": "markdown",
   "metadata": {},
   "source": [
    "In this blog post, I will be going through a toy example of how to make a recommendation system using a machine learning algorithm called a collaborative filtering algorithm.\n",
    "\n",
    "This blog post has been adapted from a lab exercise from the Standford Machine Learning course on coursera found [here](https://www.coursera.org/learn/machine-learning)"
   ]
  },
  {
   "cell_type": "markdown",
   "metadata": {},
   "source": [
    "## Problem Formulation:\n",
    "\n",
    "As motivation for this problem, let's pretend that we working for Netflix and we want to be able to predict how user, Kitson, would rate a movie \"Two Lovers\". One way of doing this is looking at Kitson's past ratings for movies similar to \"Two Lovers\" and check if he had given them a high rating. If he has, we can guess that he would also give a high rating for \"Two Lovers\". Additionally, we can use the data from other users to see if those with the same preferences as Kitson had also rated the movie highly. If they have, this is further evidence that Kitson would rate the movie highly. Using these two pieces of information, we can take \"Two Lovers\" and put it on Kitson's movie feed when he logs in causing him to be happy and want to continue our service!\n",
    "\n",
    "Let's explore this problem with an example:"
   ]
  },
  {
   "cell_type": "markdown",
   "metadata": {},
   "source": [
    "## Implementation:"
   ]
  },
  {
   "cell_type": "code",
   "execution_count": 1,
   "metadata": {
    "collapsed": false
   },
   "outputs": [
    {
     "data": {
      "text/html": [
       "<div>\n",
       "<table border=\"1\" class=\"dataframe\">\n",
       "  <thead>\n",
       "    <tr style=\"text-align: right;\">\n",
       "      <th></th>\n",
       "      <th>Movie</th>\n",
       "      <th>Matt</th>\n",
       "      <th>Kitson</th>\n",
       "      <th>Subi</th>\n",
       "      <th>Pratheek</th>\n",
       "      <th>Andrew</th>\n",
       "      <th>Rodrigo</th>\n",
       "    </tr>\n",
       "  </thead>\n",
       "  <tbody>\n",
       "    <tr>\n",
       "      <th>0</th>\n",
       "      <td>Love Everywhere</td>\n",
       "      <td>NaN</td>\n",
       "      <td>5.0</td>\n",
       "      <td>0.5</td>\n",
       "      <td>5.0</td>\n",
       "      <td>0.0</td>\n",
       "      <td>5.0</td>\n",
       "    </tr>\n",
       "    <tr>\n",
       "      <th>1</th>\n",
       "      <td>Two Lovers</td>\n",
       "      <td>0.0</td>\n",
       "      <td>NaN</td>\n",
       "      <td>0.0</td>\n",
       "      <td>5.0</td>\n",
       "      <td>0.1</td>\n",
       "      <td>4.9</td>\n",
       "    </tr>\n",
       "    <tr>\n",
       "      <th>2</th>\n",
       "      <td>Love Always</td>\n",
       "      <td>0.0</td>\n",
       "      <td>5.0</td>\n",
       "      <td>0.0</td>\n",
       "      <td>5.0</td>\n",
       "      <td>0.0</td>\n",
       "      <td>5.0</td>\n",
       "    </tr>\n",
       "    <tr>\n",
       "      <th>3</th>\n",
       "      <td>Explosions Now</td>\n",
       "      <td>5.0</td>\n",
       "      <td>0.0</td>\n",
       "      <td>5.0</td>\n",
       "      <td>0.0</td>\n",
       "      <td>4.8</td>\n",
       "      <td>0.1</td>\n",
       "    </tr>\n",
       "    <tr>\n",
       "      <th>4</th>\n",
       "      <td>Guns and Karate</td>\n",
       "      <td>4.9</td>\n",
       "      <td>NaN</td>\n",
       "      <td>4.9</td>\n",
       "      <td>0.0</td>\n",
       "      <td>5.0</td>\n",
       "      <td>0.0</td>\n",
       "    </tr>\n",
       "    <tr>\n",
       "      <th>5</th>\n",
       "      <td>Ninjas vs Cowboys</td>\n",
       "      <td>5.0</td>\n",
       "      <td>1.0</td>\n",
       "      <td>NaN</td>\n",
       "      <td>1.0</td>\n",
       "      <td>4.8</td>\n",
       "      <td>0.5</td>\n",
       "    </tr>\n",
       "    <tr>\n",
       "      <th>6</th>\n",
       "      <td>Paint Drying</td>\n",
       "      <td>0.0</td>\n",
       "      <td>0.0</td>\n",
       "      <td>NaN</td>\n",
       "      <td>0.1</td>\n",
       "      <td>0.0</td>\n",
       "      <td>NaN</td>\n",
       "    </tr>\n",
       "  </tbody>\n",
       "</table>\n",
       "</div>"
      ],
      "text/plain": [
       "               Movie  Matt  Kitson  Subi  Pratheek  Andrew  Rodrigo\n",
       "0    Love Everywhere   NaN     5.0   0.5       5.0     0.0      5.0\n",
       "1         Two Lovers   0.0     NaN   0.0       5.0     0.1      4.9\n",
       "2        Love Always   0.0     5.0   0.0       5.0     0.0      5.0\n",
       "3     Explosions Now   5.0     0.0   5.0       0.0     4.8      0.1\n",
       "4    Guns and Karate   4.9     NaN   4.9       0.0     5.0      0.0\n",
       "5  Ninjas vs Cowboys   5.0     1.0   NaN       1.0     4.8      0.5\n",
       "6       Paint Drying   0.0     0.0   NaN       0.1     0.0      NaN"
      ]
     },
     "execution_count": 1,
     "metadata": {},
     "output_type": "execute_result"
    }
   ],
   "source": [
    "# Loading libraries:\n",
    "import pandas as pd\n",
    "import numpy as np\n",
    "from scipy.optimize import minimize\n",
    "\n",
    "# Reading in data\n",
    "y_raw = pd.read_csv(\"../data/small_movies.csv\")\n",
    "y = y_raw.drop(\"Movie\", axis=1)\n",
    "y_raw"
   ]
  },
  {
   "cell_type": "markdown",
   "metadata": {},
   "source": [
    "\n",
    "The above table is showing us our \"database\". As we can see, Kitson has yet to watch \"Two Lovers\" as it is filled with a `NaN`. Our main job is to be able to predict what each of the `NaN`'s should be. \n",
    "\n",
    "Let's first assume that each user provides us with their list of preferences for movies. Let's first say that Kitson really likes romantic movies and really hates action movies. We can represent this via:\n",
    "\n",
    "`beta_Kitson` = [4.5, 1]\n",
    "\n",
    "In the equation above, the first number represents, on a scale of 0 to 5, how much Kitson likes romantic movies. Similarily the second number represents how much Kitson likes action movies. \n",
    "\n",
    "Next, let's assume that each movie also has a \"genre score\" saying how romantic or action packed a movie is. We can do this via:\n",
    "\n",
    "`x_twolovers` = [0.95, 0.01]\n",
    "\n",
    "In the above equation, the first number represents how romantic the movie is on a scale of 0 to 1. The same is true for the second value on measuring how action packed a movie is.\n",
    "\n",
    "It should be noted that the assumptions of knowing `beta` and `x` will eventually be discarded. For now however, let's assume that all users have given us their preferences, `beta_user`, and each director has given us a genre score for each movie `x_movie`\n",
    "\n",
    "Next, we can find the dot product of `x_twolovers` and `beta_Kitson` to get Kitson's predicted score for \"Two Lovers\":\n",
    "\n",
    "`x_twolovers`  dot  `beta_Kitson` = 4.285\n",
    "\n",
    "Now, we can make a guess that Kitson will rate \"Two Lovers\" as a 4.285\n",
    "\n",
    "Let's try implementing this:"
   ]
  },
  {
   "cell_type": "code",
   "execution_count": 2,
   "metadata": {
    "collapsed": false
   },
   "outputs": [
    {
     "data": {
      "text/plain": [
       "4.2849999999999993"
      ]
     },
     "execution_count": 2,
     "metadata": {},
     "output_type": "execute_result"
    }
   ],
   "source": [
    "# Setting up Kitson's preferences and the movie \"genre score\"\n",
    "beta_Kitson = np.array([4.5, 1])\n",
    "x_twolovers = np.array([0.95, 0.01])\n",
    "\n",
    "pred_Kitson_twolovers = np.dot(beta_Kitson, x_twolovers)\n",
    "pred_Kitson_twolovers"
   ]
  },
  {
   "cell_type": "markdown",
   "metadata": {},
   "source": [
    "Great, now let's try extending this for all users:"
   ]
  },
  {
   "cell_type": "code",
   "execution_count": 3,
   "metadata": {
    "collapsed": false
   },
   "outputs": [
    {
     "data": {
      "text/html": [
       "<div>\n",
       "<table border=\"1\" class=\"dataframe\">\n",
       "  <thead>\n",
       "    <tr style=\"text-align: right;\">\n",
       "      <th></th>\n",
       "      <th>0</th>\n",
       "      <th>1</th>\n",
       "      <th>2</th>\n",
       "      <th>3</th>\n",
       "      <th>4</th>\n",
       "      <th>5</th>\n",
       "    </tr>\n",
       "  </thead>\n",
       "  <tbody>\n",
       "    <tr>\n",
       "      <th>0</th>\n",
       "      <td>1.150</td>\n",
       "      <td>4.100</td>\n",
       "      <td>0.25</td>\n",
       "      <td>4.500</td>\n",
       "      <td>0.340</td>\n",
       "      <td>4.505</td>\n",
       "    </tr>\n",
       "    <tr>\n",
       "      <th>1</th>\n",
       "      <td>1.000</td>\n",
       "      <td>4.285</td>\n",
       "      <td>0.05</td>\n",
       "      <td>4.750</td>\n",
       "      <td>0.145</td>\n",
       "      <td>4.751</td>\n",
       "    </tr>\n",
       "    <tr>\n",
       "      <th>2</th>\n",
       "      <td>1.000</td>\n",
       "      <td>4.500</td>\n",
       "      <td>0.00</td>\n",
       "      <td>5.000</td>\n",
       "      <td>0.100</td>\n",
       "      <td>5.000</td>\n",
       "    </tr>\n",
       "    <tr>\n",
       "      <th>3</th>\n",
       "      <td>4.975</td>\n",
       "      <td>1.102</td>\n",
       "      <td>4.95</td>\n",
       "      <td>0.125</td>\n",
       "      <td>4.953</td>\n",
       "      <td>0.224</td>\n",
       "    </tr>\n",
       "    <tr>\n",
       "      <th>4</th>\n",
       "      <td>4.960</td>\n",
       "      <td>1.035</td>\n",
       "      <td>4.95</td>\n",
       "      <td>0.050</td>\n",
       "      <td>4.951</td>\n",
       "      <td>0.149</td>\n",
       "    </tr>\n",
       "    <tr>\n",
       "      <th>5</th>\n",
       "      <td>4.770</td>\n",
       "      <td>1.040</td>\n",
       "      <td>4.75</td>\n",
       "      <td>0.100</td>\n",
       "      <td>4.752</td>\n",
       "      <td>0.195</td>\n",
       "    </tr>\n",
       "    <tr>\n",
       "      <th>6</th>\n",
       "      <td>0.500</td>\n",
       "      <td>0.100</td>\n",
       "      <td>0.50</td>\n",
       "      <td>0.000</td>\n",
       "      <td>0.500</td>\n",
       "      <td>0.010</td>\n",
       "    </tr>\n",
       "  </tbody>\n",
       "</table>\n",
       "</div>"
      ],
      "text/plain": [
       "       0      1     2      3      4      5\n",
       "0  1.150  4.100  0.25  4.500  0.340  4.505\n",
       "1  1.000  4.285  0.05  4.750  0.145  4.751\n",
       "2  1.000  4.500  0.00  5.000  0.100  5.000\n",
       "3  4.975  1.102  4.95  0.125  4.953  0.224\n",
       "4  4.960  1.035  4.95  0.050  4.951  0.149\n",
       "5  4.770  1.040  4.75  0.100  4.752  0.195\n",
       "6  0.500  0.100  0.50  0.000  0.500  0.010"
      ]
     },
     "execution_count": 3,
     "metadata": {},
     "output_type": "execute_result"
    }
   ],
   "source": [
    "# Setting up all movie's \"genre-score\":\n",
    "x = np.array([[0.90,0.05], # Love Everywhere\n",
    "              [0.95, 0.01], # Two Lovers\n",
    "              [1,0], # Love Always\n",
    "              [0.025,0.99], # Explosions Now\n",
    "              [0.01,0.99], # Guns and Karate\n",
    "              [0.02,0.95], # Ninjas vs Cowboys\n",
    "              [0,0.1]]) # Paint Drying\n",
    "\n",
    "# Setting up all user's preferenes:\n",
    "beta = np.array([[1,5], # Matt\n",
    "                 [4.5,1], # Kitson\n",
    "                 [0,5], # Subi\n",
    "                 [5,0], # Pratheek\n",
    "                 [0.1,5], # Andrew\n",
    "                 [5,0.1]]) # Rodrigo\n",
    "\n",
    "# Determining predicted scores for all users and movies:\n",
    "y_pred = np.dot(x, beta.T)\n",
    "pd.DataFrame(y_pred.round(3))"
   ]
  },
  {
   "cell_type": "markdown",
   "metadata": {},
   "source": [
    "\n",
    "\n",
    "In the array shown above, each row corresponds to a specific movie and each column corresponds to a specific user. Concretely, the second row in the array corresponds to the movie \"Two Lovers\". The second entry in this row corresponds to Kitson's predicted rating of 4.3. \n",
    "\n",
    "Now that we have predicted ratings for everyone and we can continue making all of our users happy by giving them good recommendations! However, we aren't quite done yet. If you haven't noticed already, there are errors in the array above. Take for example the second column corresponding to Kitson. Our predicted rating for the first movie \"Love Everywhere\" is 4.1. Howevever, if we look above Kitson actually provided a rating of 5 for this movie:"
   ]
  },
  {
   "cell_type": "code",
   "execution_count": 4,
   "metadata": {
    "collapsed": false
   },
   "outputs": [
    {
     "data": {
      "text/html": [
       "<div>\n",
       "<table border=\"1\" class=\"dataframe\">\n",
       "  <thead>\n",
       "    <tr style=\"text-align: right;\">\n",
       "      <th></th>\n",
       "      <th>Movie</th>\n",
       "      <th>Matt</th>\n",
       "      <th>Kitson</th>\n",
       "      <th>Subi</th>\n",
       "      <th>Pratheek</th>\n",
       "      <th>Andrew</th>\n",
       "      <th>Rodrigo</th>\n",
       "    </tr>\n",
       "  </thead>\n",
       "  <tbody>\n",
       "    <tr>\n",
       "      <th>0</th>\n",
       "      <td>Love Everywhere</td>\n",
       "      <td>NaN</td>\n",
       "      <td>5.0</td>\n",
       "      <td>0.5</td>\n",
       "      <td>5.0</td>\n",
       "      <td>0.0</td>\n",
       "      <td>5.0</td>\n",
       "    </tr>\n",
       "    <tr>\n",
       "      <th>1</th>\n",
       "      <td>Two Lovers</td>\n",
       "      <td>0.0</td>\n",
       "      <td>NaN</td>\n",
       "      <td>0.0</td>\n",
       "      <td>5.0</td>\n",
       "      <td>0.1</td>\n",
       "      <td>4.9</td>\n",
       "    </tr>\n",
       "    <tr>\n",
       "      <th>2</th>\n",
       "      <td>Love Always</td>\n",
       "      <td>0.0</td>\n",
       "      <td>5.0</td>\n",
       "      <td>0.0</td>\n",
       "      <td>5.0</td>\n",
       "      <td>0.0</td>\n",
       "      <td>5.0</td>\n",
       "    </tr>\n",
       "    <tr>\n",
       "      <th>3</th>\n",
       "      <td>Explosions Now</td>\n",
       "      <td>5.0</td>\n",
       "      <td>0.0</td>\n",
       "      <td>5.0</td>\n",
       "      <td>0.0</td>\n",
       "      <td>4.8</td>\n",
       "      <td>0.1</td>\n",
       "    </tr>\n",
       "    <tr>\n",
       "      <th>4</th>\n",
       "      <td>Guns and Karate</td>\n",
       "      <td>4.9</td>\n",
       "      <td>NaN</td>\n",
       "      <td>4.9</td>\n",
       "      <td>0.0</td>\n",
       "      <td>5.0</td>\n",
       "      <td>0.0</td>\n",
       "    </tr>\n",
       "    <tr>\n",
       "      <th>5</th>\n",
       "      <td>Ninjas vs Cowboys</td>\n",
       "      <td>5.0</td>\n",
       "      <td>1.0</td>\n",
       "      <td>NaN</td>\n",
       "      <td>1.0</td>\n",
       "      <td>4.8</td>\n",
       "      <td>0.5</td>\n",
       "    </tr>\n",
       "    <tr>\n",
       "      <th>6</th>\n",
       "      <td>Paint Drying</td>\n",
       "      <td>0.0</td>\n",
       "      <td>0.0</td>\n",
       "      <td>NaN</td>\n",
       "      <td>0.1</td>\n",
       "      <td>0.0</td>\n",
       "      <td>NaN</td>\n",
       "    </tr>\n",
       "  </tbody>\n",
       "</table>\n",
       "</div>"
      ],
      "text/plain": [
       "               Movie  Matt  Kitson  Subi  Pratheek  Andrew  Rodrigo\n",
       "0    Love Everywhere   NaN     5.0   0.5       5.0     0.0      5.0\n",
       "1         Two Lovers   0.0     NaN   0.0       5.0     0.1      4.9\n",
       "2        Love Always   0.0     5.0   0.0       5.0     0.0      5.0\n",
       "3     Explosions Now   5.0     0.0   5.0       0.0     4.8      0.1\n",
       "4    Guns and Karate   4.9     NaN   4.9       0.0     5.0      0.0\n",
       "5  Ninjas vs Cowboys   5.0     1.0   NaN       1.0     4.8      0.5\n",
       "6       Paint Drying   0.0     0.0   NaN       0.1     0.0      NaN"
      ]
     },
     "execution_count": 4,
     "metadata": {},
     "output_type": "execute_result"
    }
   ],
   "source": [
    "y_raw"
   ]
  },
  {
   "cell_type": "markdown",
   "metadata": {},
   "source": [
    "We made an error of 0.9. If we continue cross referencing the predicted scores and the actual scores provided, we can find a lot of these errors:"
   ]
  },
  {
   "cell_type": "code",
   "execution_count": 5,
   "metadata": {
    "collapsed": false
   },
   "outputs": [
    {
     "data": {
      "text/html": [
       "<div>\n",
       "<table border=\"1\" class=\"dataframe\">\n",
       "  <thead>\n",
       "    <tr style=\"text-align: right;\">\n",
       "      <th></th>\n",
       "      <th>Matt</th>\n",
       "      <th>Kitson</th>\n",
       "      <th>Subi</th>\n",
       "      <th>Pratheek</th>\n",
       "      <th>Andrew</th>\n",
       "      <th>Rodrigo</th>\n",
       "    </tr>\n",
       "  </thead>\n",
       "  <tbody>\n",
       "    <tr>\n",
       "      <th>0</th>\n",
       "      <td>NaN</td>\n",
       "      <td>0.81</td>\n",
       "      <td>0.06</td>\n",
       "      <td>0.25</td>\n",
       "      <td>0.12</td>\n",
       "      <td>0.25</td>\n",
       "    </tr>\n",
       "    <tr>\n",
       "      <th>1</th>\n",
       "      <td>1.00</td>\n",
       "      <td>NaN</td>\n",
       "      <td>0.00</td>\n",
       "      <td>0.06</td>\n",
       "      <td>0.00</td>\n",
       "      <td>0.02</td>\n",
       "    </tr>\n",
       "    <tr>\n",
       "      <th>2</th>\n",
       "      <td>1.00</td>\n",
       "      <td>0.25</td>\n",
       "      <td>0.00</td>\n",
       "      <td>0.00</td>\n",
       "      <td>0.01</td>\n",
       "      <td>0.00</td>\n",
       "    </tr>\n",
       "    <tr>\n",
       "      <th>3</th>\n",
       "      <td>0.00</td>\n",
       "      <td>1.22</td>\n",
       "      <td>0.00</td>\n",
       "      <td>0.02</td>\n",
       "      <td>0.02</td>\n",
       "      <td>0.02</td>\n",
       "    </tr>\n",
       "    <tr>\n",
       "      <th>4</th>\n",
       "      <td>0.00</td>\n",
       "      <td>NaN</td>\n",
       "      <td>0.00</td>\n",
       "      <td>0.00</td>\n",
       "      <td>0.00</td>\n",
       "      <td>0.02</td>\n",
       "    </tr>\n",
       "    <tr>\n",
       "      <th>5</th>\n",
       "      <td>0.05</td>\n",
       "      <td>0.00</td>\n",
       "      <td>NaN</td>\n",
       "      <td>0.81</td>\n",
       "      <td>0.00</td>\n",
       "      <td>0.09</td>\n",
       "    </tr>\n",
       "    <tr>\n",
       "      <th>6</th>\n",
       "      <td>0.25</td>\n",
       "      <td>0.01</td>\n",
       "      <td>NaN</td>\n",
       "      <td>0.01</td>\n",
       "      <td>0.25</td>\n",
       "      <td>NaN</td>\n",
       "    </tr>\n",
       "  </tbody>\n",
       "</table>\n",
       "</div>"
      ],
      "text/plain": [
       "   Matt  Kitson  Subi  Pratheek  Andrew  Rodrigo\n",
       "0   NaN    0.81  0.06      0.25    0.12     0.25\n",
       "1  1.00     NaN  0.00      0.06    0.00     0.02\n",
       "2  1.00    0.25  0.00      0.00    0.01     0.00\n",
       "3  0.00    1.22  0.00      0.02    0.02     0.02\n",
       "4  0.00     NaN  0.00      0.00    0.00     0.02\n",
       "5  0.05    0.00   NaN      0.81    0.00     0.09\n",
       "6  0.25    0.01   NaN      0.01    0.25      NaN"
      ]
     },
     "execution_count": 5,
     "metadata": {},
     "output_type": "execute_result"
    }
   ],
   "source": [
    "# Finding squared errors:\n",
    "error = y_pred - y\n",
    "init_sq_error = error**2\n",
    "init_sq_error.round(2)"
   ]
  },
  {
   "cell_type": "markdown",
   "metadata": {},
   "source": [
    "The above table shows us the squared error associated with each predicted rating. The `NaN` values correspond to the case where a rating was not provided by the user so it is impossible to calculate an error. Let's see how much error we made for each user:"
   ]
  },
  {
   "cell_type": "code",
   "execution_count": 6,
   "metadata": {
    "collapsed": false
   },
   "outputs": [
    {
     "data": {
      "text/plain": [
       "Matt        2.307125\n",
       "Kitson      2.287106\n",
       "Subi        0.070000\n",
       "Pratheek    1.150625\n",
       "Andrew      0.405586\n",
       "Rodrigo     0.397828\n",
       "dtype: float64"
      ]
     },
     "execution_count": 6,
     "metadata": {},
     "output_type": "execute_result"
    }
   ],
   "source": [
    "init_user_errors = np.sum(init_sq_error)\n",
    "init_user_errors"
   ]
  },
  {
   "cell_type": "markdown",
   "metadata": {},
   "source": [
    "Can we make the errors associated with each user smaller? Perhaps we can adjust our users `beta` preferences such that we achieve a smaller error. Alternatively, we can adjust our movie's `x` \"genre-score\" to achieve less error. Turns out we can do both simultaneously! Now, our new goal is to choose the value of `beta` and `x` such that we achieve the lowest possible error. This is a minimization problem. For the sake of clarity and brevity, I will skip over a lot of the mathematically dense theory and focus more on implementation.\n",
    "\n",
    "First, we need a way of calculating the error:"
   ]
  },
  {
   "cell_type": "code",
   "execution_count": 7,
   "metadata": {
    "collapsed": false
   },
   "outputs": [],
   "source": [
    "def compute_error(X_beta, y, rated, reg_coeff, num_features):\n",
    "    # Get dimensions\n",
    "    num_users = y.shape[1]\n",
    "    num_movies = y.shape[0]\n",
    "    \n",
    "    # Reconstructing X:\n",
    "    X = X_beta[0:num_movies*num_features]\n",
    "    X = X.reshape((num_movies, num_features))\n",
    "    \n",
    "    # Reconstructing beta:\n",
    "    beta = X_beta[num_movies*num_features:]\n",
    "    beta = beta.reshape((num_users, num_features))\n",
    "    \n",
    "    # Calculating estimate:\n",
    "    y_hat = np.dot(X, beta.T)\n",
    "    \n",
    "    # Calculating error:\n",
    "    error = np.multiply((y_hat - y), rated)\n",
    "    sq_error = error**2\n",
    "    \n",
    "    # Calculating cost:\n",
    "    beta_regularization = (reg_coeff/2)*(np.sum(beta**2))\n",
    "    X_regularization = (reg_coeff/2)*(np.sum(X**2))       \n",
    "    J =  (1/2)*np.sum(np.sum(sq_error)) + beta_regularization + X_regularization\n",
    "    \n",
    "    # Calculating gradients:\n",
    "    beta_gradient = np.dot(error.T,X) + reg_coeff*beta\n",
    "    X_gradient = np.dot(error,beta) + reg_coeff*X \n",
    "    X_beta_gradient = np.append(np.ravel(X_gradient), np.ravel(beta_gradient))\n",
    "\n",
    "    return(J, X_beta_gradient)"
   ]
  },
  {
   "cell_type": "markdown",
   "metadata": {},
   "source": [
    "#### Outputs of  `compute_error`:\n",
    "Though quite intimidating, the function `compute_error` above is quite simple. Its main purpose is to compute `J` which is called the \"cost\". The \"cost\" is the thing that we are trying to minimize. \"Cost\" is pretty much the same thing as squared error and for the sake of this post, we can just think of \"cost\" and \"squared error\" to be the same thing.\n",
    "\n",
    "The other output `X_beta_gradient` is the gradient of cost. In order to find the minimum of cost, we must take the derivative of cost with respective to `x` and `beta` separatley. `X_beta_gradient` can be thought of as the derivative of the cost function. For those who are interested in this, please [click here](https://en.wikipedia.org/wiki/Gradient_descent)\n",
    "\n",
    "#### Inputs of  `compute_error`:\n",
    "`X_beta` value is the genre-score and user preference arrays unrolled into a single vector array. This will be made more clear later. \n",
    "\n",
    "`y` is matrix containing the ratings of each movie from each user.\n",
    "\n",
    "`rated` is a boolean form of `y` showing whether or not a user has provided a rating for a specific movie\n",
    "\n",
    "`reg_coeff` is the regularization constant. I will not be disussing this in this blog post as we are going to be setting this to zero. \n",
    "\n",
    "`num_features` are the number of different features/genre scores we want associated with each movie. In the example done above, we only used two - romance and action. This can be any number of your choosing."
   ]
  },
  {
   "cell_type": "markdown",
   "metadata": {},
   "source": [
    "#### Magic Machine Learning Stuff: \n",
    "\n",
    "Remember before when I made the assumptions that we knew `x` and `beta`? Well now let's do away with those assumptions. Let's just make `x` and `beta` totally random and see if our algorithm can find optimal values for them."
   ]
  },
  {
   "cell_type": "code",
   "execution_count": 8,
   "metadata": {
    "collapsed": false
   },
   "outputs": [
    {
     "data": {
      "text/plain": [
       "array([[ 0.65182445,  0.87943029],\n",
       "       [ 0.45902744,  0.30341172],\n",
       "       [ 0.92346645,  0.74723157],\n",
       "       [ 0.00874112,  0.68262371],\n",
       "       [ 0.891005  ,  0.46805953],\n",
       "       [ 0.58602187,  0.66814132]])"
      ]
     },
     "execution_count": 8,
     "metadata": {},
     "output_type": "execute_result"
    }
   ],
   "source": [
    "num_movies = y.shape[0]\n",
    "num_users = y.shape[1]\n",
    "num_features = 2 # romance and action\n",
    "\n",
    "x = np.random.rand(num_users, num_features)\n",
    "x"
   ]
  },
  {
   "cell_type": "code",
   "execution_count": 9,
   "metadata": {
    "collapsed": false
   },
   "outputs": [
    {
     "data": {
      "text/plain": [
       "array([[ 0.88522926,  0.13610893],\n",
       "       [ 0.25787647,  0.26321224],\n",
       "       [ 0.00373896,  0.30363864],\n",
       "       [ 0.25413635,  0.3765358 ],\n",
       "       [ 0.85459137,  0.73525599],\n",
       "       [ 0.33363685,  0.24953996],\n",
       "       [ 0.74352324,  0.43095807]])"
      ]
     },
     "execution_count": 9,
     "metadata": {},
     "output_type": "execute_result"
    }
   ],
   "source": [
    "beta = np.random.rand(num_movies, num_features)\n",
    "beta"
   ]
  },
  {
   "cell_type": "markdown",
   "metadata": {},
   "source": [
    "Now that the values for `x` and `beta` are totally random ones. Let's now make the inputs that required to use `compute_cost`: "
   ]
  },
  {
   "cell_type": "code",
   "execution_count": 10,
   "metadata": {
    "collapsed": false
   },
   "outputs": [
    {
     "data": {
      "text/plain": [
       "array([ 0.65182445,  0.87943029,  0.45902744,  0.30341172,  0.92346645,\n",
       "        0.74723157,  0.00874112,  0.68262371,  0.891005  ,  0.46805953,\n",
       "        0.58602187,  0.66814132,  0.88522926,  0.13610893,  0.25787647,\n",
       "        0.26321224,  0.00373896,  0.30363864,  0.25413635,  0.3765358 ,\n",
       "        0.85459137,  0.73525599,  0.33363685,  0.24953996,  0.74352324,\n",
       "        0.43095807])"
      ]
     },
     "execution_count": 10,
     "metadata": {},
     "output_type": "execute_result"
    }
   ],
   "source": [
    "# Making X_beta:\n",
    "X_beta = np.append(np.ravel(x), np.ravel(beta))\n",
    "X_beta"
   ]
  },
  {
   "cell_type": "markdown",
   "metadata": {},
   "source": [
    "As mentioned above, `X_beta` is the unrolled version of the `x` matrix containing the values for the genre scores for each movie and the `beta` matrix containing the preferences for each user."
   ]
  },
  {
   "cell_type": "code",
   "execution_count": 11,
   "metadata": {
    "collapsed": false
   },
   "outputs": [
    {
     "data": {
      "text/html": [
       "<div>\n",
       "<table border=\"1\" class=\"dataframe\">\n",
       "  <thead>\n",
       "    <tr style=\"text-align: right;\">\n",
       "      <th></th>\n",
       "      <th>Matt</th>\n",
       "      <th>Kitson</th>\n",
       "      <th>Subi</th>\n",
       "      <th>Pratheek</th>\n",
       "      <th>Andrew</th>\n",
       "      <th>Rodrigo</th>\n",
       "    </tr>\n",
       "  </thead>\n",
       "  <tbody>\n",
       "    <tr>\n",
       "      <th>0</th>\n",
       "      <td>False</td>\n",
       "      <td>True</td>\n",
       "      <td>True</td>\n",
       "      <td>True</td>\n",
       "      <td>True</td>\n",
       "      <td>True</td>\n",
       "    </tr>\n",
       "    <tr>\n",
       "      <th>1</th>\n",
       "      <td>True</td>\n",
       "      <td>False</td>\n",
       "      <td>True</td>\n",
       "      <td>True</td>\n",
       "      <td>True</td>\n",
       "      <td>True</td>\n",
       "    </tr>\n",
       "    <tr>\n",
       "      <th>2</th>\n",
       "      <td>True</td>\n",
       "      <td>True</td>\n",
       "      <td>True</td>\n",
       "      <td>True</td>\n",
       "      <td>True</td>\n",
       "      <td>True</td>\n",
       "    </tr>\n",
       "    <tr>\n",
       "      <th>3</th>\n",
       "      <td>True</td>\n",
       "      <td>True</td>\n",
       "      <td>True</td>\n",
       "      <td>True</td>\n",
       "      <td>True</td>\n",
       "      <td>True</td>\n",
       "    </tr>\n",
       "    <tr>\n",
       "      <th>4</th>\n",
       "      <td>True</td>\n",
       "      <td>False</td>\n",
       "      <td>True</td>\n",
       "      <td>True</td>\n",
       "      <td>True</td>\n",
       "      <td>True</td>\n",
       "    </tr>\n",
       "    <tr>\n",
       "      <th>5</th>\n",
       "      <td>True</td>\n",
       "      <td>True</td>\n",
       "      <td>False</td>\n",
       "      <td>True</td>\n",
       "      <td>True</td>\n",
       "      <td>True</td>\n",
       "    </tr>\n",
       "    <tr>\n",
       "      <th>6</th>\n",
       "      <td>True</td>\n",
       "      <td>True</td>\n",
       "      <td>False</td>\n",
       "      <td>True</td>\n",
       "      <td>True</td>\n",
       "      <td>False</td>\n",
       "    </tr>\n",
       "  </tbody>\n",
       "</table>\n",
       "</div>"
      ],
      "text/plain": [
       "    Matt Kitson   Subi Pratheek Andrew Rodrigo\n",
       "0  False   True   True     True   True    True\n",
       "1   True  False   True     True   True    True\n",
       "2   True   True   True     True   True    True\n",
       "3   True   True   True     True   True    True\n",
       "4   True  False   True     True   True    True\n",
       "5   True   True  False     True   True    True\n",
       "6   True   True  False     True   True   False"
      ]
     },
     "execution_count": 11,
     "metadata": {},
     "output_type": "execute_result"
    }
   ],
   "source": [
    "# Making rated:\n",
    "rated = ~pd.isnull(y)\n",
    "rated"
   ]
  },
  {
   "cell_type": "code",
   "execution_count": 12,
   "metadata": {
    "collapsed": false
   },
   "outputs": [
    {
     "data": {
      "text/plain": [
       "160.06126386284626"
      ]
     },
     "execution_count": 12,
     "metadata": {},
     "output_type": "execute_result"
    }
   ],
   "source": [
    "# Setting remaining parameters:\n",
    "reg_coeff = 0\n",
    "\n",
    "# Let's try compute_error:\n",
    "(J, grad) = compute_error(X_beta, y, rated, reg_coeff, num_features)\n",
    "J"
   ]
  },
  {
   "cell_type": "markdown",
   "metadata": {},
   "source": [
    "The above is showing us that for our initial values of `x` and `beta` we have an \"error\" of 154. Are there different values of `x` and `beta` that will have less error? Of course there are! We just used random ones to start off with.\n",
    "\n",
    "Next, we will be determining the values of `x` and `beta` that will minimize the \"error\" by using scipy's [`minimize`](https://docs.scipy.org/doc/scipy-0.18.1/reference/generated/scipy.optimize.minimize.html) function combined with our `compute_error` function. \n",
    "\n",
    "First however, we are going to center/normalize our ratings for each movie by subtracting the mean rating for each movie. By doing this, each movie will have a mean rating centered at zero. Although the reason why we do this is not that important or covered in this post, briefly, it is done so that we obtain reasonable results for users who have not yet rated anything. "
   ]
  },
  {
   "cell_type": "code",
   "execution_count": 13,
   "metadata": {
    "collapsed": false
   },
   "outputs": [
    {
     "data": {
      "text/html": [
       "<div>\n",
       "<table border=\"1\" class=\"dataframe\">\n",
       "  <thead>\n",
       "    <tr style=\"text-align: right;\">\n",
       "      <th></th>\n",
       "      <th>Matt</th>\n",
       "      <th>Kitson</th>\n",
       "      <th>Subi</th>\n",
       "      <th>Pratheek</th>\n",
       "      <th>Andrew</th>\n",
       "      <th>Rodrigo</th>\n",
       "    </tr>\n",
       "  </thead>\n",
       "  <tbody>\n",
       "    <tr>\n",
       "      <th>0</th>\n",
       "      <td>0.00</td>\n",
       "      <td>1.90</td>\n",
       "      <td>-2.60</td>\n",
       "      <td>1.90</td>\n",
       "      <td>-3.10</td>\n",
       "      <td>1.90</td>\n",
       "    </tr>\n",
       "    <tr>\n",
       "      <th>1</th>\n",
       "      <td>-2.00</td>\n",
       "      <td>0.00</td>\n",
       "      <td>-2.00</td>\n",
       "      <td>3.00</td>\n",
       "      <td>-1.90</td>\n",
       "      <td>2.90</td>\n",
       "    </tr>\n",
       "    <tr>\n",
       "      <th>2</th>\n",
       "      <td>-2.50</td>\n",
       "      <td>2.50</td>\n",
       "      <td>-2.50</td>\n",
       "      <td>2.50</td>\n",
       "      <td>-2.50</td>\n",
       "      <td>2.50</td>\n",
       "    </tr>\n",
       "    <tr>\n",
       "      <th>3</th>\n",
       "      <td>2.52</td>\n",
       "      <td>-2.48</td>\n",
       "      <td>2.52</td>\n",
       "      <td>-2.48</td>\n",
       "      <td>2.32</td>\n",
       "      <td>-2.38</td>\n",
       "    </tr>\n",
       "    <tr>\n",
       "      <th>4</th>\n",
       "      <td>1.94</td>\n",
       "      <td>0.00</td>\n",
       "      <td>1.94</td>\n",
       "      <td>-2.96</td>\n",
       "      <td>2.04</td>\n",
       "      <td>-2.96</td>\n",
       "    </tr>\n",
       "    <tr>\n",
       "      <th>5</th>\n",
       "      <td>2.54</td>\n",
       "      <td>-1.46</td>\n",
       "      <td>0.00</td>\n",
       "      <td>-1.46</td>\n",
       "      <td>2.34</td>\n",
       "      <td>-1.96</td>\n",
       "    </tr>\n",
       "    <tr>\n",
       "      <th>6</th>\n",
       "      <td>-0.02</td>\n",
       "      <td>-0.02</td>\n",
       "      <td>0.00</td>\n",
       "      <td>0.08</td>\n",
       "      <td>-0.02</td>\n",
       "      <td>0.00</td>\n",
       "    </tr>\n",
       "  </tbody>\n",
       "</table>\n",
       "</div>"
      ],
      "text/plain": [
       "   Matt  Kitson  Subi  Pratheek  Andrew  Rodrigo\n",
       "0  0.00    1.90 -2.60      1.90   -3.10     1.90\n",
       "1 -2.00    0.00 -2.00      3.00   -1.90     2.90\n",
       "2 -2.50    2.50 -2.50      2.50   -2.50     2.50\n",
       "3  2.52   -2.48  2.52     -2.48    2.32    -2.38\n",
       "4  1.94    0.00  1.94     -2.96    2.04    -2.96\n",
       "5  2.54   -1.46  0.00     -1.46    2.34    -1.96\n",
       "6 -0.02   -0.02  0.00      0.08   -0.02     0.00"
      ]
     },
     "execution_count": 13,
     "metadata": {},
     "output_type": "execute_result"
    }
   ],
   "source": [
    "# Normalizing movie ratings across movies:\n",
    "y_mean = np.mean(y,axis=1)\n",
    "y_norm = y.T - y_mean.T\n",
    "y_norm = y_norm.T\n",
    "y_norm = y_norm.fillna(0)\n",
    "y_norm.round(2)"
   ]
  },
  {
   "cell_type": "markdown",
   "metadata": {},
   "source": [
    "Now, we can use the `minimize` function in order to find the values of `x` and `beta` such that cost is minimized:"
   ]
  },
  {
   "cell_type": "code",
   "execution_count": 14,
   "metadata": {
    "collapsed": false
   },
   "outputs": [],
   "source": [
    "min_results = minimize(fun=compute_error,\n",
    "                       x0=X_beta, \n",
    "                       method='CG',         \n",
    "                       jac=True,\n",
    "                       args=(y_norm, rated, reg_coeff, num_features),\n",
    "                       options={'maxiter':1000})      "
   ]
  },
  {
   "cell_type": "markdown",
   "metadata": {},
   "source": [
    "Our learned `x` and `beta` values will be stored in `min_results['x']`. We will need reconstruct `x` and `beta` by undoing our \"unrolling\" that we did earlier. Additionally, we must undo the normalization on the predicted `y` values that we did earlier:"
   ]
  },
  {
   "cell_type": "code",
   "execution_count": 15,
   "metadata": {
    "collapsed": false
   },
   "outputs": [
    {
     "data": {
      "text/html": [
       "<div>\n",
       "<table border=\"1\" class=\"dataframe\">\n",
       "  <thead>\n",
       "    <tr style=\"text-align: right;\">\n",
       "      <th></th>\n",
       "      <th>Movie</th>\n",
       "      <th>Matt</th>\n",
       "      <th>Kitson</th>\n",
       "      <th>Subi</th>\n",
       "      <th>Pratheek</th>\n",
       "      <th>Andrew</th>\n",
       "      <th>Rodrigo</th>\n",
       "    </tr>\n",
       "  </thead>\n",
       "  <tbody>\n",
       "    <tr>\n",
       "      <th>0</th>\n",
       "      <td>Love Everywhere</td>\n",
       "      <td>0.00</td>\n",
       "      <td>4.93</td>\n",
       "      <td>0.38</td>\n",
       "      <td>4.94</td>\n",
       "      <td>0.12</td>\n",
       "      <td>5.13</td>\n",
       "    </tr>\n",
       "    <tr>\n",
       "      <th>1</th>\n",
       "      <td>Two Lovers</td>\n",
       "      <td>0.05</td>\n",
       "      <td>5.06</td>\n",
       "      <td>-0.03</td>\n",
       "      <td>4.99</td>\n",
       "      <td>0.07</td>\n",
       "      <td>4.90</td>\n",
       "    </tr>\n",
       "    <tr>\n",
       "      <th>2</th>\n",
       "      <td>Love Always</td>\n",
       "      <td>-0.07</td>\n",
       "      <td>5.01</td>\n",
       "      <td>0.09</td>\n",
       "      <td>4.98</td>\n",
       "      <td>0.00</td>\n",
       "      <td>5.03</td>\n",
       "    </tr>\n",
       "    <tr>\n",
       "      <th>3</th>\n",
       "      <td>Explosions Now</td>\n",
       "      <td>4.99</td>\n",
       "      <td>0.02</td>\n",
       "      <td>4.84</td>\n",
       "      <td>0.05</td>\n",
       "      <td>4.92</td>\n",
       "      <td>0.00</td>\n",
       "    </tr>\n",
       "    <tr>\n",
       "      <th>4</th>\n",
       "      <td>Guns and Karate</td>\n",
       "      <td>4.92</td>\n",
       "      <td>-0.10</td>\n",
       "      <td>5.00</td>\n",
       "      <td>-0.04</td>\n",
       "      <td>4.90</td>\n",
       "      <td>0.06</td>\n",
       "    </tr>\n",
       "    <tr>\n",
       "      <th>5</th>\n",
       "      <td>Ninjas vs Cowboys</td>\n",
       "      <td>4.96</td>\n",
       "      <td>0.90</td>\n",
       "      <td>4.67</td>\n",
       "      <td>0.89</td>\n",
       "      <td>4.87</td>\n",
       "      <td>0.75</td>\n",
       "    </tr>\n",
       "    <tr>\n",
       "      <th>6</th>\n",
       "      <td>Paint Drying</td>\n",
       "      <td>-0.00</td>\n",
       "      <td>0.05</td>\n",
       "      <td>0.00</td>\n",
       "      <td>0.05</td>\n",
       "      <td>-0.00</td>\n",
       "      <td>0.05</td>\n",
       "    </tr>\n",
       "  </tbody>\n",
       "</table>\n",
       "</div>"
      ],
      "text/plain": [
       "               Movie  Matt  Kitson  Subi  Pratheek  Andrew  Rodrigo\n",
       "0    Love Everywhere  0.00    4.93  0.38      4.94    0.12     5.13\n",
       "1         Two Lovers  0.05    5.06 -0.03      4.99    0.07     4.90\n",
       "2        Love Always -0.07    5.01  0.09      4.98    0.00     5.03\n",
       "3     Explosions Now  4.99    0.02  4.84      0.05    4.92     0.00\n",
       "4    Guns and Karate  4.92   -0.10  5.00     -0.04    4.90     0.06\n",
       "5  Ninjas vs Cowboys  4.96    0.90  4.67      0.89    4.87     0.75\n",
       "6       Paint Drying -0.00    0.05  0.00      0.05   -0.00     0.05"
      ]
     },
     "execution_count": 15,
     "metadata": {},
     "output_type": "execute_result"
    }
   ],
   "source": [
    "# Getting Results:\n",
    "x_beta_learned = min_results['x']\n",
    "\n",
    "# Reconstructing X:\n",
    "x_learned = x_beta_learned[0:num_movies*num_features]\n",
    "x_learned = x_learned.reshape((num_movies, num_features))\n",
    "\n",
    "# Reconstructing beta:\n",
    "beta_learned = x_beta_learned[num_movies*num_features:]\n",
    "beta_learned = beta_learned.reshape((num_users, num_features))\n",
    "\n",
    "# Undo normalization:\n",
    "y_predicted_norm = np.dot(x_learned, beta_learned.T)\n",
    "y_predicted = y_predicted_norm + y_mean[np.newaxis,:].T\n",
    "\n",
    "# Making output pretty:\n",
    "y_pred_df = pd.DataFrame(y_predicted)\n",
    "y_pred_df['Movie']= y_raw['Movie']\n",
    "y_pred_df.columns = np.append(y.columns, \"Movie\")\n",
    "cols = y_pred_df.columns.tolist()\n",
    "cols = cols[-1:] + cols[0:-1]\n",
    "y_pred_df = y_pred_df[cols]\n",
    "y_pred_df.round(2)"
   ]
  },
  {
   "cell_type": "markdown",
   "metadata": {},
   "source": [
    "The table above is showing us the predicted ratings for each user. "
   ]
  },
  {
   "cell_type": "markdown",
   "metadata": {},
   "source": [
    "## Discussion:\n",
    "\n",
    "Let's compare the predicted ratings above with the raw input ratings that we've recieved from the users "
   ]
  },
  {
   "cell_type": "code",
   "execution_count": 16,
   "metadata": {
    "collapsed": false
   },
   "outputs": [
    {
     "data": {
      "text/html": [
       "<div>\n",
       "<table border=\"1\" class=\"dataframe\">\n",
       "  <thead>\n",
       "    <tr style=\"text-align: right;\">\n",
       "      <th></th>\n",
       "      <th>Movie</th>\n",
       "      <th>Matt</th>\n",
       "      <th>Kitson</th>\n",
       "      <th>Subi</th>\n",
       "      <th>Pratheek</th>\n",
       "      <th>Andrew</th>\n",
       "      <th>Rodrigo</th>\n",
       "    </tr>\n",
       "  </thead>\n",
       "  <tbody>\n",
       "    <tr>\n",
       "      <th>0</th>\n",
       "      <td>Love Everywhere</td>\n",
       "      <td>NaN</td>\n",
       "      <td>5.0</td>\n",
       "      <td>0.5</td>\n",
       "      <td>5.0</td>\n",
       "      <td>0.0</td>\n",
       "      <td>5.0</td>\n",
       "    </tr>\n",
       "    <tr>\n",
       "      <th>1</th>\n",
       "      <td>Two Lovers</td>\n",
       "      <td>0.0</td>\n",
       "      <td>NaN</td>\n",
       "      <td>0.0</td>\n",
       "      <td>5.0</td>\n",
       "      <td>0.1</td>\n",
       "      <td>4.9</td>\n",
       "    </tr>\n",
       "    <tr>\n",
       "      <th>2</th>\n",
       "      <td>Love Always</td>\n",
       "      <td>0.0</td>\n",
       "      <td>5.0</td>\n",
       "      <td>0.0</td>\n",
       "      <td>5.0</td>\n",
       "      <td>0.0</td>\n",
       "      <td>5.0</td>\n",
       "    </tr>\n",
       "    <tr>\n",
       "      <th>3</th>\n",
       "      <td>Explosions Now</td>\n",
       "      <td>5.0</td>\n",
       "      <td>0.0</td>\n",
       "      <td>5.0</td>\n",
       "      <td>0.0</td>\n",
       "      <td>4.8</td>\n",
       "      <td>0.1</td>\n",
       "    </tr>\n",
       "    <tr>\n",
       "      <th>4</th>\n",
       "      <td>Guns and Karate</td>\n",
       "      <td>4.9</td>\n",
       "      <td>NaN</td>\n",
       "      <td>4.9</td>\n",
       "      <td>0.0</td>\n",
       "      <td>5.0</td>\n",
       "      <td>0.0</td>\n",
       "    </tr>\n",
       "    <tr>\n",
       "      <th>5</th>\n",
       "      <td>Ninjas vs Cowboys</td>\n",
       "      <td>5.0</td>\n",
       "      <td>1.0</td>\n",
       "      <td>NaN</td>\n",
       "      <td>1.0</td>\n",
       "      <td>4.8</td>\n",
       "      <td>0.5</td>\n",
       "    </tr>\n",
       "    <tr>\n",
       "      <th>6</th>\n",
       "      <td>Paint Drying</td>\n",
       "      <td>0.0</td>\n",
       "      <td>0.0</td>\n",
       "      <td>NaN</td>\n",
       "      <td>0.1</td>\n",
       "      <td>0.0</td>\n",
       "      <td>NaN</td>\n",
       "    </tr>\n",
       "  </tbody>\n",
       "</table>\n",
       "</div>"
      ],
      "text/plain": [
       "               Movie  Matt  Kitson  Subi  Pratheek  Andrew  Rodrigo\n",
       "0    Love Everywhere   NaN     5.0   0.5       5.0     0.0      5.0\n",
       "1         Two Lovers   0.0     NaN   0.0       5.0     0.1      4.9\n",
       "2        Love Always   0.0     5.0   0.0       5.0     0.0      5.0\n",
       "3     Explosions Now   5.0     0.0   5.0       0.0     4.8      0.1\n",
       "4    Guns and Karate   4.9     NaN   4.9       0.0     5.0      0.0\n",
       "5  Ninjas vs Cowboys   5.0     1.0   NaN       1.0     4.8      0.5\n",
       "6       Paint Drying   0.0     0.0   NaN       0.1     0.0      NaN"
      ]
     },
     "execution_count": 16,
     "metadata": {},
     "output_type": "execute_result"
    }
   ],
   "source": [
    "y_raw"
   ]
  },
  {
   "cell_type": "markdown",
   "metadata": {},
   "source": [
    "If we only look at the raw data and focus on Kitson's ratings, we can guess that he really likes romantic movies and does not like action movies. These preferences are reflected in the array containing the predicted ratings. We have predicted that he would give the movie \"Two Lovers\" a high rating while giving a movie like \"Guns and Karate\" a low rating. \n",
    "\n",
    "#### More machine learning magic:\n",
    "\n",
    "Something awesome has happened. At no point in time did we tell the algorithm to be trying to make features of genre scores for \"Romance\" and \"Action\". The algorithm has seemed to do this automatically. The algorithm has \"learned\" its own features by finding patterns in the dataset. As a concrete example, the algorithm essentially \"notices\" that users that have enjoyed \"Love Everywhere\" and \"Love Always\" tend to also enjoy \"Two Lovers\". From this, the algorithm adjusts the parameters in `x` to reflect that these three movie are similar. \n",
    "\n",
    "Extending this logic, we can give this algorithm a very large database of movies and tell it to learn 20 features instead of just having two of \"Romance\" and \"Action\". In fact, these features may have nothing to do with genres at all. The algorithm could find that people who like actor \"George Clooney\" always rate his movies very highly and it would have this as a feature if it is what minimizes the cost most effectively. \n",
    "\n",
    "This concludes this blog posts. In future blog posts, I plan on taking this algorithm and apply it to a real movie dataset. "
   ]
  }
 ],
 "metadata": {
  "anaconda-cloud": {},
  "kernelspec": {
   "display_name": "Python [default]",
   "language": "python",
   "name": "python3"
  },
  "language_info": {
   "codemirror_mode": {
    "name": "ipython",
    "version": 3
   },
   "file_extension": ".py",
   "mimetype": "text/x-python",
   "name": "python",
   "nbconvert_exporter": "python",
   "pygments_lexer": "ipython3",
   "version": "3.5.2"
  }
 },
 "nbformat": 4,
 "nbformat_minor": 1
}
