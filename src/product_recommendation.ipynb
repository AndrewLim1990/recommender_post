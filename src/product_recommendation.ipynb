{
 "cells": [
  {
   "cell_type": "markdown",
   "metadata": {},
   "source": [
    "# Product Recommendation\n",
    "\n",
    "In this blog post, I will walk through how you can manually make a product recommendation system for movies.\n",
    "\n",
    "## Loading in data:"
   ]
  },
  {
   "cell_type": "code",
   "execution_count": 33,
   "metadata": {
    "collapsed": false
   },
   "outputs": [],
   "source": [
    "# Importing libraries:\n",
    "import scipy.io as sio\n",
    "import numpy as np\n",
    "from scipy.optimize import minimize, rosen, rosen_der\n",
    "\n",
    "movie_info = sio.loadmat('../data/movies.mat')\n",
    "user_info = sio.loadmat('../data/movieParams.mat')\n",
    "\n",
    "ratings = movie_info['R']\n",
    "y = movie_info['Y']\n",
    "\n",
    "X = user_info['X']\n",
    "theta = user_info['Theta']"
   ]
  },
  {
   "cell_type": "code",
   "execution_count": 62,
   "metadata": {
    "collapsed": false
   },
   "outputs": [
    {
     "data": {
      "text/plain": [
       "31.344056244274221"
      ]
     },
     "execution_count": 62,
     "metadata": {},
     "output_type": "execute_result"
    }
   ],
   "source": [
    "def compute_cost(X_theta, y, rated, reg_coeff, num_features):\n",
    "    # Get dimensions\n",
    "    num_users = y.shape[0]\n",
    "    num_movies = y.shape[1]\n",
    "    \n",
    "    # Reconstructing X:\n",
    "    X = X_theta[0:num_users*num_features]\n",
    "    X = X.reshape((num_users, num_features))\n",
    "    \n",
    "    # Reconstructing theta:\n",
    "    theta = X_theta[num_users*num_features:]\n",
    "    theta = theta.reshape((num_movies, num_features))\n",
    "    \n",
    "    # Calculating estimate:\n",
    "    y_hat = np.dot(X, theta.T)\n",
    "    \n",
    "    # Calculating error:\n",
    "    error = np.multiply((y_hat - y), rated)\n",
    "    sq_error = error**2\n",
    "    \n",
    "    # Calculating cost:\n",
    "    theta_regularization = (reg_coeff/2)*(np.sum(theta**2))\n",
    "    X_regularization = (reg_coeff/2)*(np.sum(X**2))\n",
    "                                          \n",
    "    J =  (1/2)*np.sum(sq_error) + theta_regularization + X_regularization\n",
    "    \n",
    "    # Calculating gradients:\n",
    "    theta_gradient = np.dot(error.T,X) + reg_coeff*theta\n",
    "    X_gradient = np.dot(error,theta) + reg_coeff*X \n",
    "    X_theta_gradient = np.append(np.ravel(X_gradient), np.ravel(theta_gradient))\n",
    "\n",
    "    return(J, X_theta_gradient)\n",
    "\n",
    "X_small = X[0:5, 0:3]\n",
    "theta_small = theta[0:4, 0:3]\n",
    "ratings_small = ratings[0:5, 0:4]\n",
    "y_small = y[0:5, 0:4]\n",
    "\n",
    "X_theta_small = np.append(np.ravel(X_small), np.ravel(theta_small))\n",
    "\n",
    "(a,b) = compute_cost(X_theta_small, y_small, ratings_small, 1.5, 3)"
   ]
  }
 ],
 "metadata": {
  "anaconda-cloud": {},
  "kernelspec": {
   "display_name": "Python [default]",
   "language": "python",
   "name": "python3"
  },
  "language_info": {
   "codemirror_mode": {
    "name": "ipython",
    "version": 3
   },
   "file_extension": ".py",
   "mimetype": "text/x-python",
   "name": "python",
   "nbconvert_exporter": "python",
   "pygments_lexer": "ipython3",
   "version": "3.5.2"
  }
 },
 "nbformat": 4,
 "nbformat_minor": 1
}
